{
 "metadata": {
  "language_info": {
   "codemirror_mode": {
    "name": "ipython",
    "version": 3
   },
   "file_extension": ".py",
   "mimetype": "text/x-python",
   "name": "python",
   "nbconvert_exporter": "python",
   "pygments_lexer": "ipython3",
   "version": "3.8.6-final"
  },
  "orig_nbformat": 2,
  "kernelspec": {
   "name": "Python 3.8.6 64-bit",
   "display_name": "Python 3.8.6 64-bit",
   "metadata": {
    "interpreter": {
     "hash": "0c73c1fbf4de404edc287ff60cc2c5fcb6bd67b2adced50dd3f1ed013edd93b3"
    }
   }
  }
 },
 "nbformat": 4,
 "nbformat_minor": 2,
 "cells": [
  {
   "cell_type": "code",
   "execution_count": 36,
   "metadata": {},
   "outputs": [
    {
     "output_type": "stream",
     "name": "stdout",
     "text": [
      "The unique element is: 1\nThe unique element is: 12\n"
     ]
    }
   ],
   "source": [
    "def unique(nums):\n",
    "    c=0\n",
    "    n=len(nums)\n",
    "    for j in range(0,n):\n",
    "        for k in range(0,n):\n",
    "            if(j==k):\n",
    "                pass\n",
    "            elif(nums[j]==nums[k]):\n",
    "                c+=1\n",
    "            else:\n",
    "                c+=0\n",
    "        if(c==0):\n",
    "            print(\"The unique element is:\",nums[j])\n",
    "        c=0\n",
    "nums=[1,12,3,2,3,2]\n",
    "unique(nums)\n"
   ]
  },
  {
   "cell_type": "code",
   "execution_count": 37,
   "metadata": {},
   "outputs": [
    {
     "output_type": "stream",
     "name": "stdout",
     "text": [
      "hello  bro th er"
     ]
    }
   ],
   "source": [
    "def rmspace(str):\n",
    "    for i in range(0,len(str)):\n",
    "        if(str[i]>='A' and str[i]<='Z'):\n",
    "            if(i!=0):\n",
    "                print(\" \",end=\"\")\n",
    "            print(str[i].lower(),end=\"\")\n",
    "        else:\n",
    "            print(str[i],end=\"\")\n",
    "rmspace('hello BroThEr')"
   ]
  },
  {
   "cell_type": "code",
   "execution_count": 40,
   "metadata": {},
   "outputs": [
    {
     "output_type": "stream",
     "name": "stdout",
     "text": [
      "You exceeded by 1 miles today.It is a progress day 1\nYou exceeded by 1 miles today.It is a progress day 2\nYou exceeded by 3 miles today.It is a progress day 3\nRan less miles this day\nYou exceeded by 2 miles today.It is a progress day 1\n"
     ]
    }
   ],
   "source": [
    "def jog(list):\n",
    "    count=0\n",
    "    for i in range(0,len(list)-1):\n",
    "        if(list[i+1]>list[i]):\n",
    "            count=count+1\n",
    "            print('You exceeded by',list[i+1]-list[i],'miles today.It is a progress day',count)\n",
    "        elif(list[i+1]==list[i]):\n",
    "            count=0\n",
    "            print('Same number of miles covered which is',list[i+1])\n",
    "        else:\n",
    "            count=0\n",
    "            print('Ran less miles this day')\n",
    "jog([1,2,3,6,5,7])\n"
   ]
  },
  {
   "cell_type": "code",
   "execution_count": 42,
   "metadata": {},
   "outputs": [
    {
     "output_type": "stream",
     "name": "stdout",
     "text": [
      "True\n"
     ]
    }
   ],
   "source": [
    "def sudoku(list):\n",
    "    c=[1]\n",
    "    list=[item for elem in list for item in elem]\n",
    "    for i in range(9):\n",
    "        count=0\n",
    "        if list[i]>1 and list[i]<=9:\n",
    "            if(list.count(list[i])==1):\n",
    "                return True\n",
    "            else:\n",
    "                return False\n",
    "        else:\n",
    "            return False\n",
    "list=[[3,4,5],[9,1,7],[2,8,6]]\n",
    "print(sudoku(list))\n"
   ]
  },
  {
   "cell_type": "code",
   "execution_count": 51,
   "metadata": {},
   "outputs": [
    {
     "output_type": "stream",
     "name": "stdout",
     "text": [
      "[(4, 3), (2, 3), (6, 3)]\n21\n"
     ]
    }
   ],
   "source": [
    "import random\n",
    "def get_score(rolls):\n",
    "    score=0\n",
    "    for(s1,s2) in rolls:\n",
    "        if s1==s2:\n",
    "            score =0\n",
    "        else:\n",
    "            score=score+s1+s2\n",
    "    return score\n",
    "rolls=[]\n",
    "for i in range(3):\n",
    "    n1=random.randint(1,6)\n",
    "    n2=random.randint(1,6)\n",
    "    roll=(n1,n2)\n",
    "    rolls.append(roll)\n",
    "\n",
    "print(rolls)\n",
    "print(get_score(rolls))\n",
    "\n"
   ]
  },
  {
   "cell_type": "code",
   "execution_count": 52,
   "metadata": {},
   "outputs": [
    {
     "output_type": "stream",
     "name": "stdout",
     "text": [
      "[1, 2, 3, 2, 1, 3, 4, 4]\n"
     ]
    }
   ],
   "source": [
    "def remove_xtra_occurence(l,N):\n",
    "    L=[]\n",
    "    for item in l:\n",
    "        if L.count(item)<N:\n",
    "            L.append(item)\n",
    "    return L\n",
    "l=[1,2,3,2,1,3,1,2,4,3,4]\n",
    "N=2\n",
    "l=remove_xtra_occurence(l,N)\n",
    "print(l)\n"
   ]
  },
  {
   "cell_type": "code",
   "execution_count": 55,
   "metadata": {},
   "outputs": [
    {
     "output_type": "stream",
     "name": "stdout",
     "text": [
      "['Arjun', 'Kaushiki']\n"
     ]
    }
   ],
   "source": [
    "students={'Aniket':[100,99,100],'Arjun':[100,100,100],'Kaushiki':[100,100,100]}\n",
    "passed=[]\n",
    "for i in students:\n",
    "    if students[i].count(100)==len(students[i]):\n",
    "        passed.append(i)\n",
    "\n",
    "passed.sort()\n",
    "print(passed)\n"
   ]
  },
  {
   "cell_type": "code",
   "execution_count": 60,
   "metadata": {},
   "outputs": [],
   "source": [
    "class CompanyMember:\n",
    "    def __init__(self,name,designation,age):\n",
    "        self.name=name\n",
    "        self.designation=designation\n",
    "        self.age=age\n",
    "class FactoryStaff(CompanyMember):\n",
    "    def __init__(self,name,designation,age,overtime_allowance):\n",
    "        CompanyMember.__init__(slef,name,designation,age)\n",
    "        self.overtime_allowance=overtime_allowance\n",
    "class officeStaff(CompanyMember):\n",
    "    def __init__(self,name,designation,age,travel_allowance):\n",
    "        CompanyMember.__init__(self,name,designation,age)\n",
    "        self.travel_allowance=travel_allowance\n"
   ]
  },
  {
   "cell_type": "code",
   "execution_count": 62,
   "metadata": {},
   "outputs": [
    {
     "output_type": "stream",
     "name": "stdout",
     "text": [
      "Ronaldoage is 29\nRonaldoheight is182 cm\nRonaldo weight is65 kg\n"
     ]
    }
   ],
   "source": [
    "class FootballPlayer:\n",
    "    def __init__(self,name,age,height,weight):\n",
    "        self.name=name\n",
    "        self.age=age\n",
    "        self.height=height\n",
    "        self.weight=weight\n",
    "    def get_age(self):\n",
    "        print('{}age is {}'.format(self.name,self.age))\n",
    "    def get_height(self):\n",
    "        print('{}height is{} cm'.format(self.name,self.height))\n",
    "    def get_weight(self):\n",
    "        print('{} weight is{} kg'.format(self.name,self.weight))\n",
    "\n",
    "player=FootballPlayer('Ronaldo','29','182','65')\n",
    "player.get_age()\n",
    "player.get_height()\n",
    "player.get_weight()\n"
   ]
  },
  {
   "cell_type": "code",
   "execution_count": 1,
   "metadata": {},
   "outputs": [
    {
     "output_type": "error",
     "ename": "ModuleNotFoundError",
     "evalue": "No module named 'networkx'",
     "traceback": [
      "\u001b[1;31m---------------------------------------------------------------------------\u001b[0m",
      "\u001b[1;31mModuleNotFoundError\u001b[0m                       Traceback (most recent call last)",
      "\u001b[1;32m<ipython-input-1-5b21e8370728>\u001b[0m in \u001b[0;36m<module>\u001b[1;34m\u001b[0m\n\u001b[1;32m----> 1\u001b[1;33m \u001b[1;32mimport\u001b[0m \u001b[0mnetworkx\u001b[0m \u001b[1;32mas\u001b[0m \u001b[0mnx\u001b[0m\u001b[1;33m\u001b[0m\u001b[1;33m\u001b[0m\u001b[0m\n\u001b[0m\u001b[0;32m      2\u001b[0m \u001b[1;32mimport\u001b[0m \u001b[0mmatplotlib\u001b[0m\u001b[1;33m.\u001b[0m\u001b[0mpyplot\u001b[0m \u001b[1;32mas\u001b[0m \u001b[0mplt\u001b[0m\u001b[1;33m\u001b[0m\u001b[1;33m\u001b[0m\u001b[0m\n\u001b[0;32m      3\u001b[0m \u001b[1;33m\u001b[0m\u001b[0m\n\u001b[0;32m      4\u001b[0m \u001b[0mG\u001b[0m \u001b[1;33m=\u001b[0m \u001b[0mnx\u001b[0m\u001b[1;33m.\u001b[0m\u001b[0mGraph\u001b[0m\u001b[1;33m(\u001b[0m\u001b[1;33m)\u001b[0m\u001b[1;33m\u001b[0m\u001b[1;33m\u001b[0m\u001b[0m\n\u001b[0;32m      5\u001b[0m \u001b[1;33m\u001b[0m\u001b[0m\n",
      "\u001b[1;31mModuleNotFoundError\u001b[0m: No module named 'networkx'"
     ]
    }
   ],
   "source": [
    "import networkx as nx  \n",
    "import matplotlib.pyplot as plt \n",
    "  \n",
    "G = nx.Graph() \n",
    "  \n",
    "plt.figure(figsize =(8, 10)) \n",
    "G.add_edges_from([(1, 2), (1, 3), (2, 3), (2, 4), (2, 5), (3, 4),  \n",
    "                         (4, 5), (4, 6), (5, 7), (5, 8), (7, 8)])\n",
    "plt.subplot(211) \n",
    "nx.draw_networkx(G) \n",
    "H = G.subgraph([1, 2, 3, 4,5,6,7,8])   \n",
    "plt.subplot(212) \n",
    "nx.draw_networkx(H) \n",
    "plt.show()"
   ]
  },
  {
   "cell_type": "code",
   "execution_count": 2,
   "metadata": {},
   "outputs": [
    {
     "output_type": "error",
     "ename": "ModuleNotFoundError",
     "evalue": "No module named 'nltk'",
     "traceback": [
      "\u001b[1;31m---------------------------------------------------------------------------\u001b[0m",
      "\u001b[1;31mModuleNotFoundError\u001b[0m                       Traceback (most recent call last)",
      "\u001b[1;32m<ipython-input-2-089f0897e9a5>\u001b[0m in \u001b[0;36m<module>\u001b[1;34m\u001b[0m\n\u001b[1;32m----> 1\u001b[1;33m \u001b[1;32mimport\u001b[0m \u001b[0mnltk\u001b[0m\u001b[1;33m\u001b[0m\u001b[1;33m\u001b[0m\u001b[0m\n\u001b[0m\u001b[0;32m      2\u001b[0m \u001b[0mnltk\u001b[0m\u001b[1;33m.\u001b[0m\u001b[0mdownload\u001b[0m\u001b[1;33m(\u001b[0m\u001b[1;34m'punkt'\u001b[0m\u001b[1;33m)\u001b[0m\u001b[1;33m\u001b[0m\u001b[1;33m\u001b[0m\u001b[0m\n\u001b[0;32m      3\u001b[0m \u001b[1;32mfrom\u001b[0m \u001b[0mnltk\u001b[0m\u001b[1;33m.\u001b[0m\u001b[0mtokenize\u001b[0m \u001b[1;32mimport\u001b[0m \u001b[0mword_tokenize\u001b[0m\u001b[1;33m\u001b[0m\u001b[1;33m\u001b[0m\u001b[0m\n\u001b[0;32m      4\u001b[0m \u001b[0mtext\u001b[0m \u001b[1;33m=\u001b[0m \u001b[1;34m\"I like animals\"\u001b[0m\u001b[1;33m\u001b[0m\u001b[1;33m\u001b[0m\u001b[0m\n\u001b[0;32m      5\u001b[0m \u001b[0mprint\u001b[0m\u001b[1;33m(\u001b[0m\u001b[0mword_tokenize\u001b[0m\u001b[1;33m(\u001b[0m\u001b[0mtext\u001b[0m\u001b[1;33m)\u001b[0m\u001b[1;33m)\u001b[0m\u001b[1;33m\u001b[0m\u001b[1;33m\u001b[0m\u001b[0m\n",
      "\u001b[1;31mModuleNotFoundError\u001b[0m: No module named 'nltk'"
     ]
    }
   ],
   "source": [
    "import nltk\n",
    "nltk.download('punkt')\n",
    "from nltk.tokenize import word_tokenize\n",
    "text = \"I like animals\"\n",
    "print(word_tokenize(text))\n",
    "\n"
   ]
  },
  {
   "cell_type": "code",
   "execution_count": 3,
   "metadata": {},
   "outputs": [
    {
     "output_type": "error",
     "ename": "SyntaxError",
     "evalue": "invalid syntax (<ipython-input-3-e46a28660044>, line 4)",
     "traceback": [
      "\u001b[1;36m  File \u001b[1;32m\"<ipython-input-3-e46a28660044>\"\u001b[1;36m, line \u001b[1;32m4\u001b[0m\n\u001b[1;33m    rom selenium.webdriver.common.by import By\u001b[0m\n\u001b[1;37m        ^\u001b[0m\n\u001b[1;31mSyntaxError\u001b[0m\u001b[1;31m:\u001b[0m invalid syntax\n"
     ]
    }
   ],
   "source": [
    "from selenium import webdriver\n",
    "from selenium.webdriver.support.ui import WebDriverWait\n",
    "from selenium.webdriver.support import expected_conditions as EC\n",
    "rom selenium.webdriver.common.by import By\n",
    "driver = webdriver.Chrome(executable_path='D:\\Python\\chromedriver.exe')\n",
    "wait = WebDriverWait(driver, 600)\n",
    "friend = \"Susheet\"\n",
    "string = \"Hello\"\n",
    "x_arg = '//span[contains(@title,' + friend +')]'\n",
    "group_title = wait.unitl(EC.presence_of_element_located((By.XPATH, x_arg)))\n",
    "group_title.click()\n",
    "message = driver.find_elements_by_xpath('//*[@id=\"main\"]/footer/div[1]/div[2]/div/div[2]')[0]\n",
    "message.send_keys(string)\n",
    "sendbutton = driver.find_elements_by_xpath('//*[@id=\"main\"]/footer/div[1]/div[3]/button')[0]\n",
    "sendbutton.click()\n",
    "driver.close"
   ]
  },
  {
   "cell_type": "code",
   "execution_count": 1,
   "metadata": {},
   "outputs": [
    {
     "output_type": "stream",
     "name": "stdout",
     "text": [
      "time taken by bubble sort: 1.16347336769104\n"
     ]
    }
   ],
   "source": [
    "import random\n",
    "import time\n",
    "def bsort(a,n):\n",
    "        for i in range(n): \n",
    "                for j in range(0, n-i-1):\n",
    "                        if a[j] > a[j+1] : \n",
    "                                a[j], a[j+1] = a[j+1], a[j] \n",
    "n = 1000\n",
    "a = []\n",
    "for i in range(n):\n",
    "        a.append(random.randint(0,n-1))\n",
    "s = time.time()\n",
    "bsort(a,n)\n",
    "time.sleep(1)\n",
    "st = time.time()\n",
    "print(\"time taken by bubble sort:\",st-s)\n",
    "\n"
   ]
  },
  {
   "cell_type": "code",
   "execution_count": 2,
   "metadata": {},
   "outputs": [
    {
     "output_type": "stream",
     "name": "stdout",
     "text": [
      "time taken by selection sort: 1.1314637660980225\n"
     ]
    }
   ],
   "source": [
    "import random\n",
    "import time\n",
    "def ssort(a,n):\n",
    "        for i in range(n):\n",
    "            m = i \n",
    "            for j in range(i+1,n): \n",
    "                    if (a[m] > a[j]): \n",
    "                            m = j         \n",
    "            a[i], a[m] = a[m], a[i]\n",
    "n = 1000\n",
    "a = []\n",
    "for i in range(n):\n",
    "        a.append(random.randint(0,n-1))\n",
    "s = time.time()\n",
    "ssort(a,n)\n",
    "time.sleep(1)\n",
    "st = time.time()\n",
    "print(\"time taken by selection sort:\",st-s)\n"
   ]
  },
  {
   "cell_type": "code",
   "execution_count": 3,
   "metadata": {},
   "outputs": [
    {
     "output_type": "stream",
     "name": "stdout",
     "text": [
      "time taken by insertion sort: 1.1946980953216553\n"
     ]
    }
   ],
   "source": [
    "import random\n",
    "import time\n",
    "def isort(a,n):\n",
    "        for i in range(1,n):\n",
    "                k = a[i]\n",
    "                j = i-1\n",
    "                while (j >= 0 and k < a[j]): \n",
    "                        a[j + 1] = a[j] \n",
    "                        j -= 1\n",
    "                        a[j + 1] = k\n",
    "n = 1000\n",
    "a = []\n",
    "for i in range(n):\n",
    "        a.append(random.randint(0,n-1))\n",
    "s = time.time()\n",
    "isort(a,n)\n",
    "time.sleep(1)\n",
    "st = time.time()\n",
    "print(\"time taken by insertion sort:\",st-s)\n"
   ]
  },
  {
   "cell_type": "code",
   "execution_count": 4,
   "metadata": {},
   "outputs": [
    {
     "output_type": "stream",
     "name": "stdout",
     "text": [
      "time taken by merge sort: 1.019275426864624\n"
     ]
    }
   ],
   "source": [
    "import random\n",
    "import time\n",
    "def msort(a):\n",
    "        if len(a)>1: \n",
    "                mid = len(a)//2 \n",
    "                L = a[:mid]  \n",
    "                R = a[mid:]\n",
    "                msort(L)\n",
    "                msort(R) \n",
    "                i = j = k = 0\n",
    "                while i < len(L) and j < len(R): \n",
    "                        if L[i] < R[j]: \n",
    "                                a[k] = L[i] \n",
    "                                i+= 1\n",
    "                        else: \n",
    "                                a[k] = R[j] \n",
    "                                j+= 1\n",
    "                        k+= 1\n",
    "                while i < len(L): \n",
    "                        a[k] = L[i] \n",
    "                        i+= 1\n",
    "                        k+= 1\n",
    "          \n",
    "                while j < len(R): \n",
    "                        a[k] = R[j] \n",
    "                        j+= 1\n",
    "                        k+= 1\n",
    "n = 1000\n",
    "a = []\n",
    "for i in range(n):\n",
    "        a.append(random.randint(0,n-1))\n",
    "s = time.time()\n",
    "msort(a)\n",
    "time.sleep(1)\n",
    "st = time.time()\n",
    "print(\"time taken by merge sort:\",st-s)\n",
    "\n",
    "\n"
   ]
  },
  {
   "cell_type": "code",
   "execution_count": 5,
   "metadata": {},
   "outputs": [
    {
     "output_type": "stream",
     "name": "stdout",
     "text": [
      "Element present in list at: 47\ntime taken by binary search: 1.0069985389709473\n"
     ]
    }
   ],
   "source": [
    "import random\n",
    "import time\n",
    "def bsearch(a,l,r,x):\n",
    "        if(r>=l):\n",
    "                m = (l+(r-1))//2\n",
    "                if(a[m]==x):\n",
    "                        return(m)\n",
    "                elif(a[m]>x):\n",
    "                        return(bsearch(a,l,m-1,x))\n",
    "                else:\n",
    "                        return(bsearch(a,m+1,r,x))\n",
    "        else:\n",
    "                return(-1)\n",
    "n = 500\n",
    "x = 50\n",
    "a = []\n",
    "for i in range(n):\n",
    "        a.append(random.randint(0,n-1))\n",
    "a.sort()\n",
    "s = time.time()\n",
    "z = bsearch(a,0,n,x)\n",
    "time.sleep(1)\n",
    "st = time.time()\n",
    "if(z==-1):\n",
    "        print(\"Element not present in list\")\n",
    "else:\n",
    "        print(\"Element present in list at:\",z)\n",
    "print(\"time taken by binary search:\",st-s)\n",
    "\n"
   ]
  },
  {
   "cell_type": "code",
   "execution_count": 6,
   "metadata": {},
   "outputs": [
    {
     "output_type": "stream",
     "name": "stdout",
     "text": [
      "time taken by quick sort: 1.0083627700805664\n"
     ]
    }
   ],
   "source": [
    "import random\n",
    "import time\n",
    "def qsort(arr,low,high): \n",
    "    if low < high: \n",
    "        pi = partition(arr,low,high) \n",
    "        qsort(arr, low, pi-1) \n",
    "        qsort(arr, pi+1, high)\n",
    "def partition(a,low,high): \n",
    "    i = ( low-1 ) \n",
    "    pivot = a[high]\n",
    "    for j in range(low,high):\n",
    "        if(a[j]<pivot): \n",
    "            i = i+1 \n",
    "            a[i],a[j] = a[j],a[i] \n",
    "  \n",
    "    a[i+1],a[high] = a[high],a[i+1] \n",
    "    return ( i+1 ) \n",
    "n = 1000\n",
    "a = []\n",
    "for i in range(n):\n",
    "        a.append(random.randint(0,n-1))\n",
    "s = time.time()\n",
    "qsort(a,0,n-1)\n",
    "time.sleep(1)\n",
    "st = time.time()\n",
    "print(\"time taken by quick sort:\",st-s)\n",
    "\n"
   ]
  },
  {
   "cell_type": "code",
   "execution_count": 7,
   "metadata": {},
   "outputs": [
    {
     "output_type": "stream",
     "name": "stdout",
     "text": [
      "Weight: 4 value: 12 index 1\nWeight: 5 value: 10 index 0\nWeight: 5 value: 8 index 2\nWeight: 4 value: 6 index 3\nmaxvalue: 23.6\n"
     ]
    }
   ],
   "source": [
    "class ItemValue:\n",
    "    def __init__(self, wt, val, ind):\n",
    "        self.wt = wt\n",
    "        self.val = val\n",
    "        self.ind = ind\n",
    "        self.cost = val // wt\n",
    " \n",
    "    def __lt__(self, other):\n",
    "        return self.cost < other.cost\n",
    "        \n",
    "def knapsack(wt, val, capacity):\n",
    "        iVal = []\n",
    "        for i in range(len(wt)):\n",
    "            iVal.append(ItemValue(wt[i], val[i], i))\n",
    "        iVal.sort(reverse=True)\n",
    "        totalValue = 0\n",
    "        for i in iVal:\n",
    "            curWt = int(i.wt)\n",
    "            curVal = int(i.val)\n",
    "            if capacity - curWt >= 0:\n",
    "                capacity -= curWt\n",
    "                totalValue += curVal\n",
    "            else:\n",
    "                fraction = capacity / curWt\n",
    "                totalValue += curVal * fraction\n",
    "                capacity = int(capacity - (curWt * fraction))\n",
    "                break\n",
    "        for i in range(len(wt)):\n",
    "                print(\"Weight:\",iVal[i].wt,\"value:\",iVal[i].val,\"index\",iVal[i].ind)\n",
    "        return(totalValue)\n",
    "w=10\n",
    "wt = [5,4,5,4]\n",
    "v = [10,12,8,6]\n",
    "maxv = knapsack(wt,v,w)\n",
    "print(\"maxvalue:\",maxv)\n"
   ]
  },
  {
   "cell_type": "code",
   "execution_count": 8,
   "metadata": {},
   "outputs": [
    {
     "output_type": "stream",
     "name": "stdout",
     "text": [
      "22\n"
     ]
    }
   ],
   "source": [
    "def knapSack(W, wt, val, n): \n",
    "    K = [[0 for x in range(W + 1)] for x in range(n + 1)] \n",
    "    for i in range(n + 1): \n",
    "        for w in range(W + 1): \n",
    "            if i == 0 or w == 0: \n",
    "                K[i][w] = 0\n",
    "            elif wt[i-1] <= w: \n",
    "                K[i][w] = max(val[i-1]  \n",
    "+ K[i-1][w-wt[i-1]],  K[i-1][w]) \n",
    "            else: \n",
    "                K[i][w] = K[i-1][w] \n",
    "  \n",
    "    return K[n][W]\n",
    "val = [10,12,8,6] \n",
    "wt = [5,4,5,4] \n",
    "W = 10\n",
    "n = len(val) \n",
    "print(knapSack(W, wt, val, n))\n",
    "\n"
   ]
  },
  {
   "cell_type": "code",
   "execution_count": 9,
   "metadata": {},
   "outputs": [
    {
     "output_type": "error",
     "ename": "NameError",
     "evalue": "name 'Graph' is not defined",
     "traceback": [
      "\u001b[1;31m---------------------------------------------------------------------------\u001b[0m",
      "\u001b[1;31mNameError\u001b[0m                                 Traceback (most recent call last)",
      "\u001b[1;32m<ipython-input-9-0970d6b60b20>\u001b[0m in \u001b[0;36m<module>\u001b[1;34m\u001b[0m\n\u001b[0;32m      1\u001b[0m \u001b[1;32mfrom\u001b[0m \u001b[0mcollections\u001b[0m \u001b[1;32mimport\u001b[0m \u001b[0mdefaultdict\u001b[0m\u001b[1;33m\u001b[0m\u001b[1;33m\u001b[0m\u001b[0m\n\u001b[1;32m----> 2\u001b[1;33m \u001b[1;32mclass\u001b[0m \u001b[0mGraph\u001b[0m\u001b[1;33m:\u001b[0m\u001b[1;33m\u001b[0m\u001b[1;33m\u001b[0m\u001b[0m\n\u001b[0m\u001b[0;32m      3\u001b[0m         \u001b[1;32mdef\u001b[0m \u001b[0m__init__\u001b[0m\u001b[1;33m(\u001b[0m\u001b[0mself\u001b[0m\u001b[1;33m)\u001b[0m\u001b[1;33m:\u001b[0m\u001b[1;33m\u001b[0m\u001b[1;33m\u001b[0m\u001b[0m\n\u001b[0;32m      4\u001b[0m                 \u001b[0mself\u001b[0m\u001b[1;33m.\u001b[0m\u001b[0mgraph\u001b[0m \u001b[1;33m=\u001b[0m \u001b[0mdefaultdict\u001b[0m\u001b[1;33m(\u001b[0m\u001b[0mlist\u001b[0m\u001b[1;33m)\u001b[0m\u001b[1;33m\u001b[0m\u001b[1;33m\u001b[0m\u001b[0m\n\u001b[0;32m      5\u001b[0m         \u001b[1;32mdef\u001b[0m \u001b[0maddEdge\u001b[0m\u001b[1;33m(\u001b[0m\u001b[0mself\u001b[0m\u001b[1;33m,\u001b[0m\u001b[0mu\u001b[0m\u001b[1;33m,\u001b[0m\u001b[0mv\u001b[0m\u001b[1;33m)\u001b[0m\u001b[1;33m:\u001b[0m\u001b[1;33m\u001b[0m\u001b[1;33m\u001b[0m\u001b[0m\n",
      "\u001b[1;32m<ipython-input-9-0970d6b60b20>\u001b[0m in \u001b[0;36mGraph\u001b[1;34m()\u001b[0m\n\u001b[0;32m     17\u001b[0m                                         \u001b[0mqueue\u001b[0m\u001b[1;33m.\u001b[0m\u001b[0mappend\u001b[0m\u001b[1;33m(\u001b[0m\u001b[0mi\u001b[0m\u001b[1;33m)\u001b[0m\u001b[1;33m\u001b[0m\u001b[1;33m\u001b[0m\u001b[0m\n\u001b[0;32m     18\u001b[0m                                         \u001b[0mvisited\u001b[0m\u001b[1;33m[\u001b[0m\u001b[0mi\u001b[0m\u001b[1;33m]\u001b[0m \u001b[1;33m=\u001b[0m \u001b[1;32mTrue\u001b[0m\u001b[1;33m\u001b[0m\u001b[1;33m\u001b[0m\u001b[0m\n\u001b[1;32m---> 19\u001b[1;33m         \u001b[0mg\u001b[0m \u001b[1;33m=\u001b[0m \u001b[0mGraph\u001b[0m\u001b[1;33m(\u001b[0m\u001b[1;33m)\u001b[0m\u001b[1;33m\u001b[0m\u001b[1;33m\u001b[0m\u001b[0m\n\u001b[0m\u001b[0;32m     20\u001b[0m         \u001b[0mg\u001b[0m\u001b[1;33m.\u001b[0m\u001b[0maddEdge\u001b[0m\u001b[1;33m(\u001b[0m\u001b[1;36m0\u001b[0m\u001b[1;33m,\u001b[0m \u001b[1;36m1\u001b[0m\u001b[1;33m)\u001b[0m\u001b[1;33m\u001b[0m\u001b[1;33m\u001b[0m\u001b[0m\n\u001b[0;32m     21\u001b[0m         \u001b[0mg\u001b[0m\u001b[1;33m.\u001b[0m\u001b[0maddEdge\u001b[0m\u001b[1;33m(\u001b[0m\u001b[1;36m0\u001b[0m\u001b[1;33m,\u001b[0m \u001b[1;36m2\u001b[0m\u001b[1;33m)\u001b[0m\u001b[1;33m\u001b[0m\u001b[1;33m\u001b[0m\u001b[0m\n",
      "\u001b[1;31mNameError\u001b[0m: name 'Graph' is not defined"
     ]
    }
   ],
   "source": [
    "from collections import defaultdict \n",
    "class Graph: \n",
    "\tdef __init__(self): \n",
    "\t\tself.graph = defaultdict(list)\n",
    "\tdef addEdge(self,u,v): \n",
    "\t\tself.graph[u].append(v) \n",
    "\tdef BFS(self, s):\n",
    "\t\tvisited = [False] * (len(self.graph))\n",
    "\t\tqueue = []\n",
    "\t\tqueue.append(s) \n",
    "\t\tvisited[s] = True\n",
    "\t\twhile queue:\n",
    "\t\t\ts = queue.pop(0) \n",
    "\t\t\tprint (s, end = \" \") \n",
    "\t\t\tfor i in self.graph[s]: \n",
    "\t\t\t\tif visited[i] == False: \n",
    "\t\t\t\t\tqueue.append(i) \n",
    "\t\t\t\t\tvisited[i] = True \n",
    "\tg = Graph()\n",
    "\tg.addEdge(0, 1)\n",
    "\tg.addEdge(0, 2)\n",
    "\tg.addEdge(1, 2)\n",
    "\tg.addEdge(2, 0)\n",
    "\tg.addEdge(2, 3)\n",
    "\tg.addEdge(3, 3)\n",
    "\tg.BFS(2)\n"
   ]
  },
  {
   "cell_type": "code",
   "execution_count": 11,
   "metadata": {},
   "outputs": [
    {
     "output_type": "stream",
     "name": "stdout",
     "text": [
      "Edges in the constructed MST\n2 -- 3 == 4\n0 -- 3 == 5\n0 -- 1 == 10\nMinimum Spanning Tree 19\n"
     ]
    }
   ],
   "source": [
    "class Graph:\n",
    "    def __init__(self, vertices):\n",
    "        self.V = vertices\n",
    "        self.graph = []\n",
    "    def addEdge(self, u, v, w):\n",
    "        self.graph.append([u, v, w])\n",
    "    def find(self, parent, i):\n",
    "        if parent[i] == i:\n",
    "            return i\n",
    "        return self.find(parent, parent[i])\n",
    "    def union(self, parent, rank, x, y):\n",
    "        xroot = self.find(parent, x)\n",
    "        yroot = self.find(parent, y)\n",
    "        if rank[xroot] < rank[yroot]:\n",
    "            parent[xroot] = yroot\n",
    "        elif rank[xroot] > rank[yroot]:\n",
    "            parent[yroot] = xroot\n",
    "        else:\n",
    "            parent[yroot] = xroot\n",
    "            rank[xroot] +=1\n",
    "    def KruskalMST(self):\n",
    "        result = []\n",
    "        i = 0\n",
    "        e = 0\n",
    "        self.graph = sorted(self.graph, \n",
    "                            key=lambda item: item[2])\n",
    "        parent = []\n",
    "        rank = []\n",
    "        for node in range(self.V):\n",
    "            parent.append(node)\n",
    "            rank.append(0)\n",
    "        while e < self.V - 1:\n",
    "            u, v, w = self.graph[i]\n",
    "            i = i + 1\n",
    "            x = self.find(parent, u)\n",
    "            y = self.find(parent, v)\n",
    "            if x != y:\n",
    "                e = e + 1\n",
    "                result.append([u, v, w])\n",
    "                self.union(parent, rank, x, y)\n",
    "        minimumCost = 0\n",
    "        print(\"Edges in the constructed MST\")\n",
    "        for u, v, weight in result:\n",
    "            minimumCost += weight\n",
    "            print(\"%d -- %d == %d\" % (u, v, weight))\n",
    "        print(\"Minimum Spanning Tree\" , minimumCost)\n",
    "g = Graph(4)\n",
    "g.addEdge(0, 1, 10)\n",
    "g.addEdge(0, 2, 6)\n",
    "g.addEdge(0, 3, 5)\n",
    "g.addEdge(1, 3, 15)\n",
    "g.addEdge(2, 3, 4)\n",
    "g.KruskalMST()\n",
    "\n",
    "\n"
   ]
  },
  {
   "cell_type": "code",
   "execution_count": 12,
   "metadata": {},
   "outputs": [
    {
     "output_type": "stream",
     "name": "stdout",
     "text": [
      "Vertex-Distance from Source\n0 - 0\n1 - 4\n2 - 12\n3 - 19\n4 - 21\n5 - 11\n6 - 9\n7 - 8\n8 - 14\n"
     ]
    }
   ],
   "source": [
    "import sys\n",
    "class Graph():\n",
    "    def __init__(self, vertices): \n",
    "        self.V = vertices \n",
    "        self.graph = [[0 for column in range(vertices)]  \n",
    "                    for row in range(vertices)]\n",
    "    def printSolution(self, dist): \n",
    "        print (\"Vertex-Distance from Source\") \n",
    "        for node in range(self.V): \n",
    "            print (node, \"-\", dist[node])\n",
    "    def minDistance(self, dist, sptSet):\n",
    "        min = sys.maxsize\n",
    "        for v in range(self.V): \n",
    "            if dist[v] < min and sptSet[v] == False: \n",
    "                min = dist[v] \n",
    "                min_index = v\n",
    "        return min_index \n",
    "    def dijkstra(self, src):\n",
    "        dist = [sys.maxsize] * self.V\n",
    "        dist[src] = 0\n",
    "        sptSet = [False] * self.V\n",
    "        for cout in range(self.V): \n",
    "            u = self.minDistance(dist, sptSet)\n",
    "            sptSet[u] = True\n",
    "            for v in range(self.V): \n",
    "                if(self.graph[u][v] > 0 and \n",
    "                     sptSet[v] == False and \n",
    "                     dist[v] > (dist[u] + self.graph[u][v])): \n",
    "                    dist[v] = dist[u] + self.graph[u][v] \n",
    "   \n",
    "        self.printSolution(dist)\n",
    "g = Graph(9) \n",
    "g.graph = [[0, 4, 0, 0, 0, 0, 0, 8, 0], \n",
    "        [4, 0, 8, 0, 0, 0, 0, 11, 0], \n",
    "        [0, 8, 0, 7, 0, 4, 0, 0, 2], \n",
    "        [0, 0, 7, 0, 9, 14, 0, 0, 0], \n",
    "        [0, 0, 0, 9, 0, 10, 0, 0, 0], \n",
    "        [0, 0, 4, 14, 10, 0, 2, 0, 0], \n",
    "        [0, 0, 0, 0, 0, 2, 0, 1, 6], \n",
    "        [8, 11, 0, 0, 0, 0, 1, 0, 7], \n",
    "        [0, 0, 2, 0, 0, 0, 6, 7, 0] \n",
    "        ]\n",
    "g.dijkstra(0)\n"
   ]
  },
  {
   "cell_type": "code",
   "execution_count": null,
   "metadata": {},
   "outputs": [],
   "source": []
  }
 ]
}